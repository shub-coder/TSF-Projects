{
  "nbformat": 4,
  "nbformat_minor": 0,
  "metadata": {
    "colab": {
      "name": "Task 3 TSF",
      "provenance": [],
      "collapsed_sections": [],
      "toc_visible": true
    },
    "kernelspec": {
      "name": "python3",
      "display_name": "Python 3"
    }
  },
  "cells": [
    {
      "cell_type": "markdown",
      "metadata": {
        "id": "pQhgki677Gfg"
      },
      "source": [
        "#Exploratory Data Analysis - on Sample Superstore dataset\r\n",
        "by Shubhendu Mishra"
      ]
    },
    {
      "cell_type": "markdown",
      "metadata": {
        "id": "eIqog3EaRRlx"
      },
      "source": [
        "#Importing of libraries and read the data"
      ]
    },
    {
      "cell_type": "code",
      "metadata": {
        "id": "Xtwgohjy69R5"
      },
      "source": [
        "import numpy as np\r\n",
        "import pandas as pd\r\n",
        "import matplotlib.pyplot as plt\r\n",
        "import seaborn as sns"
      ],
      "execution_count": 3,
      "outputs": []
    },
    {
      "cell_type": "code",
      "metadata": {
        "id": "RA2FxKahCkxB",
        "colab": {
          "base_uri": "https://localhost:8080/",
          "height": 528
        },
        "outputId": "232e26ad-b759-4f1e-b833-29f114ba7c85"
      },
      "source": [
        "data=pd.read_csv('/content/SampleSuperstore.csv')\r\n",
        "data.head(10)"
      ],
      "execution_count": 4,
      "outputs": [
        {
          "output_type": "execute_result",
          "data": {
            "text/html": [
              "<div>\n",
              "<style scoped>\n",
              "    .dataframe tbody tr th:only-of-type {\n",
              "        vertical-align: middle;\n",
              "    }\n",
              "\n",
              "    .dataframe tbody tr th {\n",
              "        vertical-align: top;\n",
              "    }\n",
              "\n",
              "    .dataframe thead th {\n",
              "        text-align: right;\n",
              "    }\n",
              "</style>\n",
              "<table border=\"1\" class=\"dataframe\">\n",
              "  <thead>\n",
              "    <tr style=\"text-align: right;\">\n",
              "      <th></th>\n",
              "      <th>Ship Mode</th>\n",
              "      <th>Segment</th>\n",
              "      <th>Country</th>\n",
              "      <th>City</th>\n",
              "      <th>State</th>\n",
              "      <th>Postal Code</th>\n",
              "      <th>Region</th>\n",
              "      <th>Category</th>\n",
              "      <th>Sub-Category</th>\n",
              "      <th>Sales</th>\n",
              "      <th>Quantity</th>\n",
              "      <th>Discount</th>\n",
              "      <th>Profit</th>\n",
              "    </tr>\n",
              "  </thead>\n",
              "  <tbody>\n",
              "    <tr>\n",
              "      <th>0</th>\n",
              "      <td>Second Class</td>\n",
              "      <td>Consumer</td>\n",
              "      <td>United States</td>\n",
              "      <td>Henderson</td>\n",
              "      <td>Kentucky</td>\n",
              "      <td>42420</td>\n",
              "      <td>South</td>\n",
              "      <td>Furniture</td>\n",
              "      <td>Bookcases</td>\n",
              "      <td>261.9600</td>\n",
              "      <td>2</td>\n",
              "      <td>0.00</td>\n",
              "      <td>41.9136</td>\n",
              "    </tr>\n",
              "    <tr>\n",
              "      <th>1</th>\n",
              "      <td>Second Class</td>\n",
              "      <td>Consumer</td>\n",
              "      <td>United States</td>\n",
              "      <td>Henderson</td>\n",
              "      <td>Kentucky</td>\n",
              "      <td>42420</td>\n",
              "      <td>South</td>\n",
              "      <td>Furniture</td>\n",
              "      <td>Chairs</td>\n",
              "      <td>731.9400</td>\n",
              "      <td>3</td>\n",
              "      <td>0.00</td>\n",
              "      <td>219.5820</td>\n",
              "    </tr>\n",
              "    <tr>\n",
              "      <th>2</th>\n",
              "      <td>Second Class</td>\n",
              "      <td>Corporate</td>\n",
              "      <td>United States</td>\n",
              "      <td>Los Angeles</td>\n",
              "      <td>California</td>\n",
              "      <td>90036</td>\n",
              "      <td>West</td>\n",
              "      <td>Office Supplies</td>\n",
              "      <td>Labels</td>\n",
              "      <td>14.6200</td>\n",
              "      <td>2</td>\n",
              "      <td>0.00</td>\n",
              "      <td>6.8714</td>\n",
              "    </tr>\n",
              "    <tr>\n",
              "      <th>3</th>\n",
              "      <td>Standard Class</td>\n",
              "      <td>Consumer</td>\n",
              "      <td>United States</td>\n",
              "      <td>Fort Lauderdale</td>\n",
              "      <td>Florida</td>\n",
              "      <td>33311</td>\n",
              "      <td>South</td>\n",
              "      <td>Furniture</td>\n",
              "      <td>Tables</td>\n",
              "      <td>957.5775</td>\n",
              "      <td>5</td>\n",
              "      <td>0.45</td>\n",
              "      <td>-383.0310</td>\n",
              "    </tr>\n",
              "    <tr>\n",
              "      <th>4</th>\n",
              "      <td>Standard Class</td>\n",
              "      <td>Consumer</td>\n",
              "      <td>United States</td>\n",
              "      <td>Fort Lauderdale</td>\n",
              "      <td>Florida</td>\n",
              "      <td>33311</td>\n",
              "      <td>South</td>\n",
              "      <td>Office Supplies</td>\n",
              "      <td>Storage</td>\n",
              "      <td>22.3680</td>\n",
              "      <td>2</td>\n",
              "      <td>0.20</td>\n",
              "      <td>2.5164</td>\n",
              "    </tr>\n",
              "    <tr>\n",
              "      <th>5</th>\n",
              "      <td>Standard Class</td>\n",
              "      <td>Consumer</td>\n",
              "      <td>United States</td>\n",
              "      <td>Los Angeles</td>\n",
              "      <td>California</td>\n",
              "      <td>90032</td>\n",
              "      <td>West</td>\n",
              "      <td>Furniture</td>\n",
              "      <td>Furnishings</td>\n",
              "      <td>48.8600</td>\n",
              "      <td>7</td>\n",
              "      <td>0.00</td>\n",
              "      <td>14.1694</td>\n",
              "    </tr>\n",
              "    <tr>\n",
              "      <th>6</th>\n",
              "      <td>Standard Class</td>\n",
              "      <td>Consumer</td>\n",
              "      <td>United States</td>\n",
              "      <td>Los Angeles</td>\n",
              "      <td>California</td>\n",
              "      <td>90032</td>\n",
              "      <td>West</td>\n",
              "      <td>Office Supplies</td>\n",
              "      <td>Art</td>\n",
              "      <td>7.2800</td>\n",
              "      <td>4</td>\n",
              "      <td>0.00</td>\n",
              "      <td>1.9656</td>\n",
              "    </tr>\n",
              "    <tr>\n",
              "      <th>7</th>\n",
              "      <td>Standard Class</td>\n",
              "      <td>Consumer</td>\n",
              "      <td>United States</td>\n",
              "      <td>Los Angeles</td>\n",
              "      <td>California</td>\n",
              "      <td>90032</td>\n",
              "      <td>West</td>\n",
              "      <td>Technology</td>\n",
              "      <td>Phones</td>\n",
              "      <td>907.1520</td>\n",
              "      <td>6</td>\n",
              "      <td>0.20</td>\n",
              "      <td>90.7152</td>\n",
              "    </tr>\n",
              "    <tr>\n",
              "      <th>8</th>\n",
              "      <td>Standard Class</td>\n",
              "      <td>Consumer</td>\n",
              "      <td>United States</td>\n",
              "      <td>Los Angeles</td>\n",
              "      <td>California</td>\n",
              "      <td>90032</td>\n",
              "      <td>West</td>\n",
              "      <td>Office Supplies</td>\n",
              "      <td>Binders</td>\n",
              "      <td>18.5040</td>\n",
              "      <td>3</td>\n",
              "      <td>0.20</td>\n",
              "      <td>5.7825</td>\n",
              "    </tr>\n",
              "    <tr>\n",
              "      <th>9</th>\n",
              "      <td>Standard Class</td>\n",
              "      <td>Consumer</td>\n",
              "      <td>United States</td>\n",
              "      <td>Los Angeles</td>\n",
              "      <td>California</td>\n",
              "      <td>90032</td>\n",
              "      <td>West</td>\n",
              "      <td>Office Supplies</td>\n",
              "      <td>Appliances</td>\n",
              "      <td>114.9000</td>\n",
              "      <td>5</td>\n",
              "      <td>0.00</td>\n",
              "      <td>34.4700</td>\n",
              "    </tr>\n",
              "  </tbody>\n",
              "</table>\n",
              "</div>"
            ],
            "text/plain": [
              "        Ship Mode    Segment        Country  ... Quantity Discount    Profit\n",
              "0    Second Class   Consumer  United States  ...        2     0.00   41.9136\n",
              "1    Second Class   Consumer  United States  ...        3     0.00  219.5820\n",
              "2    Second Class  Corporate  United States  ...        2     0.00    6.8714\n",
              "3  Standard Class   Consumer  United States  ...        5     0.45 -383.0310\n",
              "4  Standard Class   Consumer  United States  ...        2     0.20    2.5164\n",
              "5  Standard Class   Consumer  United States  ...        7     0.00   14.1694\n",
              "6  Standard Class   Consumer  United States  ...        4     0.00    1.9656\n",
              "7  Standard Class   Consumer  United States  ...        6     0.20   90.7152\n",
              "8  Standard Class   Consumer  United States  ...        3     0.20    5.7825\n",
              "9  Standard Class   Consumer  United States  ...        5     0.00   34.4700\n",
              "\n",
              "[10 rows x 13 columns]"
            ]
          },
          "metadata": {
            "tags": []
          },
          "execution_count": 4
        }
      ]
    },
    {
      "cell_type": "markdown",
      "metadata": {
        "id": "uzCWmjLZRbeF"
      },
      "source": [
        "#check for the Number of countries in the given dataset"
      ]
    },
    {
      "cell_type": "code",
      "metadata": {
        "id": "y-Ct1wuFEnUU",
        "colab": {
          "base_uri": "https://localhost:8080/"
        },
        "outputId": "e33b75a8-520d-4574-e1a3-6ee5be1d13e4"
      },
      "source": [
        "data['Country'].unique()"
      ],
      "execution_count": 5,
      "outputs": [
        {
          "output_type": "execute_result",
          "data": {
            "text/plain": [
              "array(['United States'], dtype=object)"
            ]
          },
          "metadata": {
            "tags": []
          },
          "execution_count": 5
        }
      ]
    },
    {
      "cell_type": "code",
      "metadata": {
        "id": "fdIZsb5xIkhl",
        "colab": {
          "base_uri": "https://localhost:8080/",
          "height": 343
        },
        "outputId": "dec4a54d-039f-48f3-fd3d-45ddc22815bf"
      },
      "source": [
        "data.drop(columns=['Country'], inplace=True)\r\n",
        "data.head(10)"
      ],
      "execution_count": 6,
      "outputs": [
        {
          "output_type": "execute_result",
          "data": {
            "text/html": [
              "<div>\n",
              "<style scoped>\n",
              "    .dataframe tbody tr th:only-of-type {\n",
              "        vertical-align: middle;\n",
              "    }\n",
              "\n",
              "    .dataframe tbody tr th {\n",
              "        vertical-align: top;\n",
              "    }\n",
              "\n",
              "    .dataframe thead th {\n",
              "        text-align: right;\n",
              "    }\n",
              "</style>\n",
              "<table border=\"1\" class=\"dataframe\">\n",
              "  <thead>\n",
              "    <tr style=\"text-align: right;\">\n",
              "      <th></th>\n",
              "      <th>Ship Mode</th>\n",
              "      <th>Segment</th>\n",
              "      <th>City</th>\n",
              "      <th>State</th>\n",
              "      <th>Postal Code</th>\n",
              "      <th>Region</th>\n",
              "      <th>Category</th>\n",
              "      <th>Sub-Category</th>\n",
              "      <th>Sales</th>\n",
              "      <th>Quantity</th>\n",
              "      <th>Discount</th>\n",
              "      <th>Profit</th>\n",
              "    </tr>\n",
              "  </thead>\n",
              "  <tbody>\n",
              "    <tr>\n",
              "      <th>0</th>\n",
              "      <td>Second Class</td>\n",
              "      <td>Consumer</td>\n",
              "      <td>Henderson</td>\n",
              "      <td>Kentucky</td>\n",
              "      <td>42420</td>\n",
              "      <td>South</td>\n",
              "      <td>Furniture</td>\n",
              "      <td>Bookcases</td>\n",
              "      <td>261.9600</td>\n",
              "      <td>2</td>\n",
              "      <td>0.00</td>\n",
              "      <td>41.9136</td>\n",
              "    </tr>\n",
              "    <tr>\n",
              "      <th>1</th>\n",
              "      <td>Second Class</td>\n",
              "      <td>Consumer</td>\n",
              "      <td>Henderson</td>\n",
              "      <td>Kentucky</td>\n",
              "      <td>42420</td>\n",
              "      <td>South</td>\n",
              "      <td>Furniture</td>\n",
              "      <td>Chairs</td>\n",
              "      <td>731.9400</td>\n",
              "      <td>3</td>\n",
              "      <td>0.00</td>\n",
              "      <td>219.5820</td>\n",
              "    </tr>\n",
              "    <tr>\n",
              "      <th>2</th>\n",
              "      <td>Second Class</td>\n",
              "      <td>Corporate</td>\n",
              "      <td>Los Angeles</td>\n",
              "      <td>California</td>\n",
              "      <td>90036</td>\n",
              "      <td>West</td>\n",
              "      <td>Office Supplies</td>\n",
              "      <td>Labels</td>\n",
              "      <td>14.6200</td>\n",
              "      <td>2</td>\n",
              "      <td>0.00</td>\n",
              "      <td>6.8714</td>\n",
              "    </tr>\n",
              "    <tr>\n",
              "      <th>3</th>\n",
              "      <td>Standard Class</td>\n",
              "      <td>Consumer</td>\n",
              "      <td>Fort Lauderdale</td>\n",
              "      <td>Florida</td>\n",
              "      <td>33311</td>\n",
              "      <td>South</td>\n",
              "      <td>Furniture</td>\n",
              "      <td>Tables</td>\n",
              "      <td>957.5775</td>\n",
              "      <td>5</td>\n",
              "      <td>0.45</td>\n",
              "      <td>-383.0310</td>\n",
              "    </tr>\n",
              "    <tr>\n",
              "      <th>4</th>\n",
              "      <td>Standard Class</td>\n",
              "      <td>Consumer</td>\n",
              "      <td>Fort Lauderdale</td>\n",
              "      <td>Florida</td>\n",
              "      <td>33311</td>\n",
              "      <td>South</td>\n",
              "      <td>Office Supplies</td>\n",
              "      <td>Storage</td>\n",
              "      <td>22.3680</td>\n",
              "      <td>2</td>\n",
              "      <td>0.20</td>\n",
              "      <td>2.5164</td>\n",
              "    </tr>\n",
              "    <tr>\n",
              "      <th>5</th>\n",
              "      <td>Standard Class</td>\n",
              "      <td>Consumer</td>\n",
              "      <td>Los Angeles</td>\n",
              "      <td>California</td>\n",
              "      <td>90032</td>\n",
              "      <td>West</td>\n",
              "      <td>Furniture</td>\n",
              "      <td>Furnishings</td>\n",
              "      <td>48.8600</td>\n",
              "      <td>7</td>\n",
              "      <td>0.00</td>\n",
              "      <td>14.1694</td>\n",
              "    </tr>\n",
              "    <tr>\n",
              "      <th>6</th>\n",
              "      <td>Standard Class</td>\n",
              "      <td>Consumer</td>\n",
              "      <td>Los Angeles</td>\n",
              "      <td>California</td>\n",
              "      <td>90032</td>\n",
              "      <td>West</td>\n",
              "      <td>Office Supplies</td>\n",
              "      <td>Art</td>\n",
              "      <td>7.2800</td>\n",
              "      <td>4</td>\n",
              "      <td>0.00</td>\n",
              "      <td>1.9656</td>\n",
              "    </tr>\n",
              "    <tr>\n",
              "      <th>7</th>\n",
              "      <td>Standard Class</td>\n",
              "      <td>Consumer</td>\n",
              "      <td>Los Angeles</td>\n",
              "      <td>California</td>\n",
              "      <td>90032</td>\n",
              "      <td>West</td>\n",
              "      <td>Technology</td>\n",
              "      <td>Phones</td>\n",
              "      <td>907.1520</td>\n",
              "      <td>6</td>\n",
              "      <td>0.20</td>\n",
              "      <td>90.7152</td>\n",
              "    </tr>\n",
              "    <tr>\n",
              "      <th>8</th>\n",
              "      <td>Standard Class</td>\n",
              "      <td>Consumer</td>\n",
              "      <td>Los Angeles</td>\n",
              "      <td>California</td>\n",
              "      <td>90032</td>\n",
              "      <td>West</td>\n",
              "      <td>Office Supplies</td>\n",
              "      <td>Binders</td>\n",
              "      <td>18.5040</td>\n",
              "      <td>3</td>\n",
              "      <td>0.20</td>\n",
              "      <td>5.7825</td>\n",
              "    </tr>\n",
              "    <tr>\n",
              "      <th>9</th>\n",
              "      <td>Standard Class</td>\n",
              "      <td>Consumer</td>\n",
              "      <td>Los Angeles</td>\n",
              "      <td>California</td>\n",
              "      <td>90032</td>\n",
              "      <td>West</td>\n",
              "      <td>Office Supplies</td>\n",
              "      <td>Appliances</td>\n",
              "      <td>114.9000</td>\n",
              "      <td>5</td>\n",
              "      <td>0.00</td>\n",
              "      <td>34.4700</td>\n",
              "    </tr>\n",
              "  </tbody>\n",
              "</table>\n",
              "</div>"
            ],
            "text/plain": [
              "        Ship Mode    Segment             City  ... Quantity  Discount    Profit\n",
              "0    Second Class   Consumer        Henderson  ...        2      0.00   41.9136\n",
              "1    Second Class   Consumer        Henderson  ...        3      0.00  219.5820\n",
              "2    Second Class  Corporate      Los Angeles  ...        2      0.00    6.8714\n",
              "3  Standard Class   Consumer  Fort Lauderdale  ...        5      0.45 -383.0310\n",
              "4  Standard Class   Consumer  Fort Lauderdale  ...        2      0.20    2.5164\n",
              "5  Standard Class   Consumer      Los Angeles  ...        7      0.00   14.1694\n",
              "6  Standard Class   Consumer      Los Angeles  ...        4      0.00    1.9656\n",
              "7  Standard Class   Consumer      Los Angeles  ...        6      0.20   90.7152\n",
              "8  Standard Class   Consumer      Los Angeles  ...        3      0.20    5.7825\n",
              "9  Standard Class   Consumer      Los Angeles  ...        5      0.00   34.4700\n",
              "\n",
              "[10 rows x 12 columns]"
            ]
          },
          "metadata": {
            "tags": []
          },
          "execution_count": 6
        }
      ]
    },
    {
      "cell_type": "markdown",
      "metadata": {
        "id": "FfNky7TuRpOS"
      },
      "source": [
        "Since only one country is given in the dataset, we can remove that column as its removal will not make any difference in the dataset"
      ]
    },
    {
      "cell_type": "markdown",
      "metadata": {
        "id": "YXOsJ5cXR3dz"
      },
      "source": [
        "#Check the shape and data type of the dataset"
      ]
    },
    {
      "cell_type": "code",
      "metadata": {
        "colab": {
          "base_uri": "https://localhost:8080/"
        },
        "id": "qrUS6cI6PPyi",
        "outputId": "8edf5537-6756-4be5-f145-2968cd594974"
      },
      "source": [
        "data.shape"
      ],
      "execution_count": 7,
      "outputs": [
        {
          "output_type": "execute_result",
          "data": {
            "text/plain": [
              "(9994, 12)"
            ]
          },
          "metadata": {
            "tags": []
          },
          "execution_count": 7
        }
      ]
    },
    {
      "cell_type": "code",
      "metadata": {
        "id": "qGAHm0chW71C",
        "colab": {
          "base_uri": "https://localhost:8080/"
        },
        "outputId": "208553d3-fb28-490d-9c52-9f5974a3dc2e"
      },
      "source": [
        "data.dtypes"
      ],
      "execution_count": 8,
      "outputs": [
        {
          "output_type": "execute_result",
          "data": {
            "text/plain": [
              "Ship Mode        object\n",
              "Segment          object\n",
              "City             object\n",
              "State            object\n",
              "Postal Code       int64\n",
              "Region           object\n",
              "Category         object\n",
              "Sub-Category     object\n",
              "Sales           float64\n",
              "Quantity          int64\n",
              "Discount        float64\n",
              "Profit          float64\n",
              "dtype: object"
            ]
          },
          "metadata": {
            "tags": []
          },
          "execution_count": 8
        }
      ]
    },
    {
      "cell_type": "markdown",
      "metadata": {
        "id": "HfjeOl5TR_ZG"
      },
      "source": [
        "#Check for the missing values"
      ]
    },
    {
      "cell_type": "code",
      "metadata": {
        "id": "xdUl849UXRXX",
        "colab": {
          "base_uri": "https://localhost:8080/"
        },
        "outputId": "4e86ba92-9665-46de-e30e-1ca25a9a376e"
      },
      "source": [
        "print(f'There are {data.isnull().any().sum()} columns in dataset with missing values.')"
      ],
      "execution_count": 9,
      "outputs": [
        {
          "output_type": "stream",
          "text": [
            "There are 0 columns in dataset with missing values.\n"
          ],
          "name": "stdout"
        }
      ]
    },
    {
      "cell_type": "markdown",
      "metadata": {
        "id": "SGgfr_t1SImb"
      },
      "source": [
        "#The dataset consists of the both categorical and continuous variables. We check for different categorise which are present in all the categorical variables\r\n"
      ]
    },
    {
      "cell_type": "code",
      "metadata": {
        "id": "Yj9EOYmUJwrR",
        "colab": {
          "base_uri": "https://localhost:8080/"
        },
        "outputId": "7356e239-ee14-4e0f-b54f-d0a9a7870b5c"
      },
      "source": [
        "data['Segment'].unique()"
      ],
      "execution_count": 10,
      "outputs": [
        {
          "output_type": "execute_result",
          "data": {
            "text/plain": [
              "array(['Consumer', 'Corporate', 'Home Office'], dtype=object)"
            ]
          },
          "metadata": {
            "tags": []
          },
          "execution_count": 10
        }
      ]
    },
    {
      "cell_type": "code",
      "metadata": {
        "id": "4oFKS2uYWaHY",
        "colab": {
          "base_uri": "https://localhost:8080/"
        },
        "outputId": "b25ed209-44db-49a8-e3af-dafdc2db22f4"
      },
      "source": [
        "data['Category'].unique()"
      ],
      "execution_count": 11,
      "outputs": [
        {
          "output_type": "execute_result",
          "data": {
            "text/plain": [
              "array(['Furniture', 'Office Supplies', 'Technology'], dtype=object)"
            ]
          },
          "metadata": {
            "tags": []
          },
          "execution_count": 11
        }
      ]
    },
    {
      "cell_type": "code",
      "metadata": {
        "id": "XuPDMDHZWoTf",
        "colab": {
          "base_uri": "https://localhost:8080/"
        },
        "outputId": "f6f54482-bb20-46eb-9c72-d0eb3cfec2e6"
      },
      "source": [
        "data['Ship Mode'].unique()"
      ],
      "execution_count": 12,
      "outputs": [
        {
          "output_type": "execute_result",
          "data": {
            "text/plain": [
              "array(['Second Class', 'Standard Class', 'First Class', 'Same Day'],\n",
              "      dtype=object)"
            ]
          },
          "metadata": {
            "tags": []
          },
          "execution_count": 12
        }
      ]
    },
    {
      "cell_type": "markdown",
      "metadata": {
        "id": "2uuLKJtKSsL5"
      },
      "source": [
        "#Univariate Analysis for Categorical Variables"
      ]
    },
    {
      "cell_type": "code",
      "metadata": {
        "id": "AxD7AlXuYT43",
        "colab": {
          "base_uri": "https://localhost:8080/"
        },
        "outputId": "7cc4bffb-63bd-4704-9782-c22de048e8fa"
      },
      "source": [
        "#Analysing segment people buying items from the supermarket\r\n",
        "data['Segment'].value_counts()"
      ],
      "execution_count": 13,
      "outputs": [
        {
          "output_type": "execute_result",
          "data": {
            "text/plain": [
              "Consumer       5191\n",
              "Corporate      3020\n",
              "Home Office    1783\n",
              "Name: Segment, dtype: int64"
            ]
          },
          "metadata": {
            "tags": []
          },
          "execution_count": 13
        }
      ]
    },
    {
      "cell_type": "code",
      "metadata": {
        "id": "-iXER70LZkiZ",
        "colab": {
          "base_uri": "https://localhost:8080/"
        },
        "outputId": "79838901-8758-4ca0-d06c-8fdffa430c12"
      },
      "source": [
        "data['Segment'].value_counts()/len(data['Segment'])*100"
      ],
      "execution_count": 14,
      "outputs": [
        {
          "output_type": "execute_result",
          "data": {
            "text/plain": [
              "Consumer       51.941165\n",
              "Corporate      30.218131\n",
              "Home Office    17.840704\n",
              "Name: Segment, dtype: float64"
            ]
          },
          "metadata": {
            "tags": []
          },
          "execution_count": 14
        }
      ]
    },
    {
      "cell_type": "code",
      "metadata": {
        "id": "Y_VqkVSwbXbo",
        "colab": {
          "base_uri": "https://localhost:8080/",
          "height": 552
        },
        "outputId": "f846e1a1-82fe-4e38-e5bf-1f12626d9e87"
      },
      "source": [
        "plt.figure(figsize=(8,8))\r\n",
        "(data['Segment'].value_counts()/len(data['Segment'])*100).plot(kind='bar', color='indigo')"
      ],
      "execution_count": 15,
      "outputs": [
        {
          "output_type": "execute_result",
          "data": {
            "text/plain": [
              "<matplotlib.axes._subplots.AxesSubplot at 0x7f688f552978>"
            ]
          },
          "metadata": {
            "tags": []
          },
          "execution_count": 15
        },
        {
          "output_type": "display_data",
          "data": {
            "image/png": "[encoded data removed]",
            "text/plain": [
              "<Figure size 576x576 with 1 Axes>"
            ]
          },
          "metadata": {
            "tags": [],
            "needs_background": "light"
          }
        }
      ]
    },
    {
      "cell_type": "code",
      "metadata": {
        "id": "G8sXm9Srbj3a",
        "colab": {
          "base_uri": "https://localhost:8080/"
        },
        "outputId": "c5ee96d4-e6ea-4043-8167-1889a880a73c"
      },
      "source": [
        "##Analysing Ship Mode affecting sales and profit of the supermarket\r\n",
        "data['Ship Mode'].value_counts()"
      ],
      "execution_count": 16,
      "outputs": [
        {
          "output_type": "execute_result",
          "data": {
            "text/plain": [
              "Standard Class    5968\n",
              "Second Class      1945\n",
              "First Class       1538\n",
              "Same Day           543\n",
              "Name: Ship Mode, dtype: int64"
            ]
          },
          "metadata": {
            "tags": []
          },
          "execution_count": 16
        }
      ]
    },
    {
      "cell_type": "code",
      "metadata": {
        "id": "DbjjGZw5cPom",
        "colab": {
          "base_uri": "https://localhost:8080/"
        },
        "outputId": "a951f872-d623-4fb4-9c7a-6623cd5b181d"
      },
      "source": [
        "data['Ship Mode'].value_counts()/len(data['Ship Mode'])"
      ],
      "execution_count": 17,
      "outputs": [
        {
          "output_type": "execute_result",
          "data": {
            "text/plain": [
              "Standard Class    0.597158\n",
              "Second Class      0.194617\n",
              "First Class       0.153892\n",
              "Same Day          0.054333\n",
              "Name: Ship Mode, dtype: float64"
            ]
          },
          "metadata": {
            "tags": []
          },
          "execution_count": 17
        }
      ]
    },
    {
      "cell_type": "code",
      "metadata": {
        "id": "5I37iKwTcZrU",
        "colab": {
          "base_uri": "https://localhost:8080/"
        },
        "outputId": "6d3b7323-a72f-4f57-c7f5-d0344023adf7"
      },
      "source": [
        "data['Ship Mode'].value_counts()/len(data['Ship Mode'])"
      ],
      "execution_count": 18,
      "outputs": [
        {
          "output_type": "execute_result",
          "data": {
            "text/plain": [
              "Standard Class    0.597158\n",
              "Second Class      0.194617\n",
              "First Class       0.153892\n",
              "Same Day          0.054333\n",
              "Name: Ship Mode, dtype: float64"
            ]
          },
          "metadata": {
            "tags": []
          },
          "execution_count": 18
        }
      ]
    },
    {
      "cell_type": "code",
      "metadata": {
        "id": "gQFy419WdNVi",
        "colab": {
          "base_uri": "https://localhost:8080/"
        },
        "outputId": "46aad110-6932-4347-8f4c-36273f90b863"
      },
      "source": [
        "data['Ship Mode'].value_counts()/len(data['Ship Mode'])*100"
      ],
      "execution_count": 19,
      "outputs": [
        {
          "output_type": "execute_result",
          "data": {
            "text/plain": [
              "Standard Class    59.715829\n",
              "Second Class      19.461677\n",
              "First Class       15.389234\n",
              "Same Day           5.433260\n",
              "Name: Ship Mode, dtype: float64"
            ]
          },
          "metadata": {
            "tags": []
          },
          "execution_count": 19
        }
      ]
    },
    {
      "cell_type": "code",
      "metadata": {
        "id": "WObtFLGudOmo",
        "colab": {
          "base_uri": "https://localhost:8080/",
          "height": 565
        },
        "outputId": "1ae2728a-c7d5-4104-84ca-600eeeb62fc6"
      },
      "source": [
        "plt.figure(figsize=(8,8))\r\n",
        "(data['Ship Mode'].value_counts()/len(data['Ship Mode'])*100).plot(kind='bar', color='green')"
      ],
      "execution_count": 20,
      "outputs": [
        {
          "output_type": "execute_result",
          "data": {
            "text/plain": [
              "<matplotlib.axes._subplots.AxesSubplot at 0x7f688f487d30>"
            ]
          },
          "metadata": {
            "tags": []
          },
          "execution_count": 20
        },
        {
          "output_type": "display_data",
          "data": {
            "image/png": "[encoded data removed]",
            "text/plain": [
              "<Figure size 576x576 with 1 Axes>"
            ]
          },
          "metadata": {
            "tags": [],
            "needs_background": "light"
          }
        }
      ]
    },
    {
      "cell_type": "code",
      "metadata": {
        "id": "pFtTrQKYdeO9",
        "colab": {
          "base_uri": "https://localhost:8080/"
        },
        "outputId": "699f3ab6-dbc9-497d-ae7f-6d59d5d3e5b2"
      },
      "source": [
        "#Analysing Category wise items sold from the supermarket\r\n",
        "data['Category'].value_counts()"
      ],
      "execution_count": 21,
      "outputs": [
        {
          "output_type": "execute_result",
          "data": {
            "text/plain": [
              "Office Supplies    6026\n",
              "Furniture          2121\n",
              "Technology         1847\n",
              "Name: Category, dtype: int64"
            ]
          },
          "metadata": {
            "tags": []
          },
          "execution_count": 21
        }
      ]
    },
    {
      "cell_type": "code",
      "metadata": {
        "id": "49Q0fIMqdp0m",
        "colab": {
          "base_uri": "https://localhost:8080/"
        },
        "outputId": "a9019e51-e837-4e5c-f5a2-3f1193d9dfa0"
      },
      "source": [
        "data['Category'].value_counts()/len(data['Category'])"
      ],
      "execution_count": 22,
      "outputs": [
        {
          "output_type": "execute_result",
          "data": {
            "text/plain": [
              "Office Supplies    0.602962\n",
              "Furniture          0.212227\n",
              "Technology         0.184811\n",
              "Name: Category, dtype: float64"
            ]
          },
          "metadata": {
            "tags": []
          },
          "execution_count": 22
        }
      ]
    },
    {
      "cell_type": "code",
      "metadata": {
        "id": "Mg1iZ1b2dzrT",
        "colab": {
          "base_uri": "https://localhost:8080/"
        },
        "outputId": "2e2feb15-eba3-4a9e-9ddb-23c611c8b005"
      },
      "source": [
        "data['Category'].value_counts()/len(data['Category'])*100"
      ],
      "execution_count": 23,
      "outputs": [
        {
          "output_type": "execute_result",
          "data": {
            "text/plain": [
              "Office Supplies    60.296178\n",
              "Furniture          21.222734\n",
              "Technology         18.481089\n",
              "Name: Category, dtype: float64"
            ]
          },
          "metadata": {
            "tags": []
          },
          "execution_count": 23
        }
      ]
    },
    {
      "cell_type": "code",
      "metadata": {
        "id": "1WUX1IK1d4cK",
        "colab": {
          "base_uri": "https://localhost:8080/",
          "height": 565
        },
        "outputId": "a64c2eac-cb5f-4d39-9f6a-870dc8c2aa09"
      },
      "source": [
        "plt.figure(figsize=(8,8))\r\n",
        "(data['Category'].value_counts()/len(data['Category'])*100).plot(kind='bar', color='orange')"
      ],
      "execution_count": 24,
      "outputs": [
        {
          "output_type": "execute_result",
          "data": {
            "text/plain": [
              "<matplotlib.axes._subplots.AxesSubplot at 0x7f688efc15f8>"
            ]
          },
          "metadata": {
            "tags": []
          },
          "execution_count": 24
        },
        {
          "output_type": "display_data",
          "data": {
            "image/png": "[encoded data removed]",
            "text/plain": [
              "<Figure size 576x576 with 1 Axes>"
            ]
          },
          "metadata": {
            "tags": [],
            "needs_background": "light"
          }
        }
      ]
    },
    {
      "cell_type": "code",
      "metadata": {
        "id": "rybQUzuSeFDt",
        "colab": {
          "base_uri": "https://localhost:8080/"
        },
        "outputId": "a971bc50-2480-44e4-ef65-bf281d212539"
      },
      "source": [
        "#analysing Sub-category wise items sold from supermarket\r\n",
        "data['Sub-Category'].value_counts()/len(data['Sub-Category'])*100"
      ],
      "execution_count": 25,
      "outputs": [
        {
          "output_type": "execute_result",
          "data": {
            "text/plain": [
              "Binders        15.239143\n",
              "Paper          13.708225\n",
              "Furnishings     9.575745\n",
              "Phones          8.895337\n",
              "Storage         8.465079\n",
              "Art             7.964779\n",
              "Accessories     7.754653\n",
              "Chairs          6.173704\n",
              "Appliances      4.662798\n",
              "Labels          3.642185\n",
              "Tables          3.191915\n",
              "Envelopes       2.541525\n",
              "Bookcases       2.281369\n",
              "Fasteners       2.171303\n",
              "Supplies        1.901141\n",
              "Machines        1.150690\n",
              "Copiers         0.680408\n",
              "Name: Sub-Category, dtype: float64"
            ]
          },
          "metadata": {
            "tags": []
          },
          "execution_count": 25
        }
      ]
    },
    {
      "cell_type": "code",
      "metadata": {
        "id": "4PL-G4ibew_-",
        "colab": {
          "base_uri": "https://localhost:8080/",
          "height": 553
        },
        "outputId": "f279ba54-8d11-4c00-9b14-1bdb4f816c1e"
      },
      "source": [
        "plt.figure(figsize=(8,8))\r\n",
        "(data['Sub-Category'].value_counts()/len(data['Sub-Category'])*100).plot(kind='bar', color='brown')"
      ],
      "execution_count": 26,
      "outputs": [
        {
          "output_type": "execute_result",
          "data": {
            "text/plain": [
              "<matplotlib.axes._subplots.AxesSubplot at 0x7f688ef96b00>"
            ]
          },
          "metadata": {
            "tags": []
          },
          "execution_count": 26
        },
        {
          "output_type": "display_data",
          "data": {
            "image/png": "[encoded data removed]",
            "text/plain": [
              "<Figure size 576x576 with 1 Axes>"
            ]
          },
          "metadata": {
            "tags": [],
            "needs_background": "light"
          }
        }
      ]
    },
    {
      "cell_type": "markdown",
      "metadata": {
        "id": "v_6qlRK0Tqo3"
      },
      "source": [
        "#Check for outliers"
      ]
    },
    {
      "cell_type": "code",
      "metadata": {
        "colab": {
          "base_uri": "https://localhost:8080/",
          "height": 400
        },
        "id": "H5z07CgE4Mjq",
        "outputId": "a735af9e-3f74-435e-baa3-b19f7407e9d1"
      },
      "source": [
        "#Segment wise detection of outliers\r\n",
        "plt.figure(figsize=(16,10))\r\n",
        "sns.catplot(x=\"Segment\", y=\"Profit\", kind=\"box\", data=data)\r\n",
        "plt.show()"
      ],
      "execution_count": 27,
      "outputs": [
        {
          "output_type": "display_data",
          "data": {
            "text/plain": [
              "<Figure size 1152x720 with 0 Axes>"
            ]
          },
          "metadata": {
            "tags": []
          }
        },
        {
          "output_type": "display_data",
          "data": {
            "image/png": "[encoded data removed]",
            "text/plain": [
              "<Figure size 360x360 with 1 Axes>"
            ]
          },
          "metadata": {
            "tags": [],
            "needs_background": "light"
          }
        }
      ]
    },
    {
      "cell_type": "markdown",
      "metadata": {
        "id": "hBpuSgiyT8YV"
      },
      "source": [
        "The above plot shows that the dataset consists of a number of outliers"
      ]
    },
    {
      "cell_type": "markdown",
      "metadata": {
        "id": "nupIFNBLUIq2"
      },
      "source": [
        "#Statistical description of dataset"
      ]
    },
    {
      "cell_type": "code",
      "metadata": {
        "colab": {
          "base_uri": "https://localhost:8080/",
          "height": 284
        },
        "id": "AWBppsNR_m9H",
        "outputId": "3f6ef109-89da-43f3-bcd0-02e8171e4be1"
      },
      "source": [
        "data.describe()"
      ],
      "execution_count": 28,
      "outputs": [
        {
          "output_type": "execute_result",
          "data": {
            "text/html": [
              "<div>\n",
              "<style scoped>\n",
              "    .dataframe tbody tr th:only-of-type {\n",
              "        vertical-align: middle;\n",
              "    }\n",
              "\n",
              "    .dataframe tbody tr th {\n",
              "        vertical-align: top;\n",
              "    }\n",
              "\n",
              "    .dataframe thead th {\n",
              "        text-align: right;\n",
              "    }\n",
              "</style>\n",
              "<table border=\"1\" class=\"dataframe\">\n",
              "  <thead>\n",
              "    <tr style=\"text-align: right;\">\n",
              "      <th></th>\n",
              "      <th>Postal Code</th>\n",
              "      <th>Sales</th>\n",
              "      <th>Quantity</th>\n",
              "      <th>Discount</th>\n",
              "      <th>Profit</th>\n",
              "    </tr>\n",
              "  </thead>\n",
              "  <tbody>\n",
              "    <tr>\n",
              "      <th>count</th>\n",
              "      <td>9994.000000</td>\n",
              "      <td>9994.000000</td>\n",
              "      <td>9994.000000</td>\n",
              "      <td>9994.000000</td>\n",
              "      <td>9994.000000</td>\n",
              "    </tr>\n",
              "    <tr>\n",
              "      <th>mean</th>\n",
              "      <td>55190.379428</td>\n",
              "      <td>229.858001</td>\n",
              "      <td>3.789574</td>\n",
              "      <td>0.156203</td>\n",
              "      <td>28.656896</td>\n",
              "    </tr>\n",
              "    <tr>\n",
              "      <th>std</th>\n",
              "      <td>32063.693350</td>\n",
              "      <td>623.245101</td>\n",
              "      <td>2.225110</td>\n",
              "      <td>0.206452</td>\n",
              "      <td>234.260108</td>\n",
              "    </tr>\n",
              "    <tr>\n",
              "      <th>min</th>\n",
              "      <td>1040.000000</td>\n",
              "      <td>0.444000</td>\n",
              "      <td>1.000000</td>\n",
              "      <td>0.000000</td>\n",
              "      <td>-6599.978000</td>\n",
              "    </tr>\n",
              "    <tr>\n",
              "      <th>25%</th>\n",
              "      <td>23223.000000</td>\n",
              "      <td>17.280000</td>\n",
              "      <td>2.000000</td>\n",
              "      <td>0.000000</td>\n",
              "      <td>1.728750</td>\n",
              "    </tr>\n",
              "    <tr>\n",
              "      <th>50%</th>\n",
              "      <td>56430.500000</td>\n",
              "      <td>54.490000</td>\n",
              "      <td>3.000000</td>\n",
              "      <td>0.200000</td>\n",
              "      <td>8.666500</td>\n",
              "    </tr>\n",
              "    <tr>\n",
              "      <th>75%</th>\n",
              "      <td>90008.000000</td>\n",
              "      <td>209.940000</td>\n",
              "      <td>5.000000</td>\n",
              "      <td>0.200000</td>\n",
              "      <td>29.364000</td>\n",
              "    </tr>\n",
              "    <tr>\n",
              "      <th>max</th>\n",
              "      <td>99301.000000</td>\n",
              "      <td>22638.480000</td>\n",
              "      <td>14.000000</td>\n",
              "      <td>0.800000</td>\n",
              "      <td>8399.976000</td>\n",
              "    </tr>\n",
              "  </tbody>\n",
              "</table>\n",
              "</div>"
            ],
            "text/plain": [
              "        Postal Code         Sales     Quantity     Discount       Profit\n",
              "count   9994.000000   9994.000000  9994.000000  9994.000000  9994.000000\n",
              "mean   55190.379428    229.858001     3.789574     0.156203    28.656896\n",
              "std    32063.693350    623.245101     2.225110     0.206452   234.260108\n",
              "min     1040.000000      0.444000     1.000000     0.000000 -6599.978000\n",
              "25%    23223.000000     17.280000     2.000000     0.000000     1.728750\n",
              "50%    56430.500000     54.490000     3.000000     0.200000     8.666500\n",
              "75%    90008.000000    209.940000     5.000000     0.200000    29.364000\n",
              "max    99301.000000  22638.480000    14.000000     0.800000  8399.976000"
            ]
          },
          "metadata": {
            "tags": []
          },
          "execution_count": 28
        }
      ]
    },
    {
      "cell_type": "markdown",
      "metadata": {
        "id": "N9yt5bnLU93h"
      },
      "source": [
        "From the above Statistical descripton of the dataset, we see that the difference between max value and 75% is quite high for sales and profit which indicates the availability of outliers. This is in ageeement to the above plot"
      ]
    },
    {
      "cell_type": "markdown",
      "metadata": {
        "id": "135Gmbt-VZmw"
      },
      "source": [
        "#removal of outliers using Z-score"
      ]
    },
    {
      "cell_type": "code",
      "metadata": {
        "colab": {
          "base_uri": "https://localhost:8080/"
        },
        "id": "Q82NBFdWOIj8",
        "outputId": "ac4ca40b-5125-4f6f-dee1-fe086271d28e"
      },
      "source": [
        "from scipy import stats\r\n",
        "z=np.abs(stats.zscore(data.Profit))\r\n",
        "print(z)"
      ],
      "execution_count": 29,
      "outputs": [
        {
          "output_type": "stream",
          "text": [
            "[0.05659251 0.81505408 0.09300169 ... 0.03954647 0.06547279 0.18907752]\n"
          ],
          "name": "stdout"
        }
      ]
    },
    {
      "cell_type": "markdown",
      "metadata": {
        "id": "oN761pnQVe3K"
      },
      "source": [
        "# Here we have set a threshold Z-score of 3 that is the points having Z-score greater than 3 will be considerd as an outlier"
      ]
    },
    {
      "cell_type": "code",
      "metadata": {
        "colab": {
          "base_uri": "https://localhost:8080/"
        },
        "id": "uKa4UxZ1OQ7P",
        "outputId": "5385c92d-9898-4e10-ea01-2110f8fb79af"
      },
      "source": [
        "  threshold=3\r\n",
        "print(np.where(z>3))"
      ],
      "execution_count": 30,
      "outputs": [
        {
          "output_type": "stream",
          "text": [
            "(array([  27,  165,  215,  318,  353,  463,  509,  515,  683,  869,  910,\n",
            "        994, 1001, 1085, 1199, 1369, 1454, 1644, 1803, 1896, 1995, 2182,\n",
            "       2492, 2623, 2628, 2697, 2846, 2848, 2928, 3011, 3055, 3070, 3151,\n",
            "       3273, 3295, 3324, 3566, 3570, 3983, 4093, 4098, 4128, 4190, 4277,\n",
            "       4355, 4619, 4639, 4820, 4860, 4991, 5006, 5126, 5198, 5310, 5320,\n",
            "       5530, 5562, 5710, 5990, 6048, 6209, 6262, 6340, 6425, 6520, 6527,\n",
            "       6626, 6639, 6817, 6826, 6884, 6901, 7280, 7474, 7579, 7583, 7641,\n",
            "       7666, 7679, 7683, 7772, 7818, 7898, 7914, 8153, 8204, 8208, 8312,\n",
            "       8488, 8632, 8640, 8749, 8858, 8890, 8990, 8993, 9033, 9039, 9231,\n",
            "       9270, 9273, 9615, 9639, 9741, 9774, 9929, 9948]),)\n"
          ],
          "name": "stdout"
        }
      ]
    },
    {
      "cell_type": "code",
      "metadata": {
        "colab": {
          "base_uri": "https://localhost:8080/"
        },
        "id": "X-3z3fcQOVuN",
        "outputId": "0cc7ba8c-94cf-4a65-f822-43f8e245e257"
      },
      "source": [
        "data1=data[(z< 3)]\r\n",
        "print(data1)"
      ],
      "execution_count": 31,
      "outputs": [
        {
          "output_type": "stream",
          "text": [
            "           Ship Mode    Segment             City  ... Quantity  Discount    Profit\n",
            "0       Second Class   Consumer        Henderson  ...        2      0.00   41.9136\n",
            "1       Second Class   Consumer        Henderson  ...        3      0.00  219.5820\n",
            "2       Second Class  Corporate      Los Angeles  ...        2      0.00    6.8714\n",
            "3     Standard Class   Consumer  Fort Lauderdale  ...        5      0.45 -383.0310\n",
            "4     Standard Class   Consumer  Fort Lauderdale  ...        2      0.20    2.5164\n",
            "...              ...        ...              ...  ...      ...       ...       ...\n",
            "9989    Second Class   Consumer            Miami  ...        3      0.20    4.1028\n",
            "9990  Standard Class   Consumer       Costa Mesa  ...        2      0.00   15.6332\n",
            "9991  Standard Class   Consumer       Costa Mesa  ...        2      0.20   19.3932\n",
            "9992  Standard Class   Consumer       Costa Mesa  ...        4      0.00   13.3200\n",
            "9993    Second Class   Consumer      Westminster  ...        2      0.00   72.9480\n",
            "\n",
            "[9887 rows x 12 columns]\n"
          ],
          "name": "stdout"
        }
      ]
    },
    {
      "cell_type": "code",
      "metadata": {
        "colab": {
          "base_uri": "https://localhost:8080/",
          "height": 400
        },
        "id": "8XavbYjBPwTg",
        "outputId": "66aadf52-395e-47b5-8c0f-9d27c0741877"
      },
      "source": [
        "plt.figure(figsize=(16,10))\r\n",
        "sns.catplot(x=\"Segment\", y=\"Profit\", kind=\"box\", data=data1)\r\n",
        "plt.show()"
      ],
      "execution_count": 32,
      "outputs": [
        {
          "output_type": "display_data",
          "data": {
            "text/plain": [
              "<Figure size 1152x720 with 0 Axes>"
            ]
          },
          "metadata": {
            "tags": []
          }
        },
        {
          "output_type": "display_data",
          "data": {
            "image/png": "[encoded data removed]",
            "text/plain": [
              "<Figure size 360x360 with 1 Axes>"
            ]
          },
          "metadata": {
            "tags": [],
            "needs_background": "light"
          }
        }
      ]
    },
    {
      "cell_type": "markdown",
      "metadata": {
        "id": "JxlX7QdcV3gZ"
      },
      "source": [
        "#The correlation matrix heatmap"
      ]
    },
    {
      "cell_type": "code",
      "metadata": {
        "colab": {
          "base_uri": "https://localhost:8080/",
          "height": 286
        },
        "id": "hvNverOx4VV_",
        "outputId": "d30b9bdb-9fbd-432f-b83d-a9e32a415c72"
      },
      "source": [
        "sns.heatmap(data1.corr(), annot = True)"
      ],
      "execution_count": 33,
      "outputs": [
        {
          "output_type": "execute_result",
          "data": {
            "text/plain": [
              "<matplotlib.axes._subplots.AxesSubplot at 0x7f688eecfe48>"
            ]
          },
          "metadata": {
            "tags": []
          },
          "execution_count": 33
        },
        {
          "output_type": "display_data",
          "data": {
            "image/png": "[encoded data removed]",
            "text/plain": [
              "<Figure size 432x288 with 2 Axes>"
            ]
          },
          "metadata": {
            "tags": [],
            "needs_background": "light"
          }
        }
      ]
    },
    {
      "cell_type": "markdown",
      "metadata": {
        "id": "o7BkzDEEV8iB"
      },
      "source": [
        "The above heatmap shows Sales and Profit are positively correlated and Discount and profit are negatively correlated"
      ]
    },
    {
      "cell_type": "markdown",
      "metadata": {
        "id": "n4pV-porW1ZW"
      },
      "source": [
        "#pivot Table"
      ]
    },
    {
      "cell_type": "code",
      "metadata": {
        "colab": {
          "base_uri": "https://localhost:8080/",
          "height": 166
        },
        "id": "On9Vbo-ZBGrz",
        "outputId": "aa050fca-6077-45bc-84da-62f9b4055572"
      },
      "source": [
        "data1.pivot_table(values='Sales', index='Segment', columns='Discount', aggfunc='median')"
      ],
      "execution_count": 34,
      "outputs": [
        {
          "output_type": "execute_result",
          "data": {
            "text/html": [
              "<div>\n",
              "<style scoped>\n",
              "    .dataframe tbody tr th:only-of-type {\n",
              "        vertical-align: middle;\n",
              "    }\n",
              "\n",
              "    .dataframe tbody tr th {\n",
              "        vertical-align: top;\n",
              "    }\n",
              "\n",
              "    .dataframe thead th {\n",
              "        text-align: right;\n",
              "    }\n",
              "</style>\n",
              "<table border=\"1\" class=\"dataframe\">\n",
              "  <thead>\n",
              "    <tr style=\"text-align: right;\">\n",
              "      <th>Discount</th>\n",
              "      <th>0.00</th>\n",
              "      <th>0.10</th>\n",
              "      <th>0.15</th>\n",
              "      <th>0.20</th>\n",
              "      <th>0.30</th>\n",
              "      <th>0.32</th>\n",
              "      <th>0.40</th>\n",
              "      <th>0.45</th>\n",
              "      <th>0.50</th>\n",
              "      <th>0.60</th>\n",
              "      <th>0.70</th>\n",
              "      <th>0.80</th>\n",
              "    </tr>\n",
              "    <tr>\n",
              "      <th>Segment</th>\n",
              "      <th></th>\n",
              "      <th></th>\n",
              "      <th></th>\n",
              "      <th></th>\n",
              "      <th></th>\n",
              "      <th></th>\n",
              "      <th></th>\n",
              "      <th></th>\n",
              "      <th></th>\n",
              "      <th></th>\n",
              "      <th></th>\n",
              "      <th></th>\n",
              "    </tr>\n",
              "  </thead>\n",
              "  <tbody>\n",
              "    <tr>\n",
              "      <th>Consumer</th>\n",
              "      <td>51.535</td>\n",
              "      <td>365.598</td>\n",
              "      <td>307.666</td>\n",
              "      <td>51.264</td>\n",
              "      <td>361.011</td>\n",
              "      <td>328.3992</td>\n",
              "      <td>287.910</td>\n",
              "      <td>353.24025</td>\n",
              "      <td>277.5000</td>\n",
              "      <td>23.526</td>\n",
              "      <td>11.2545</td>\n",
              "      <td>7.656</td>\n",
              "    </tr>\n",
              "    <tr>\n",
              "      <th>Corporate</th>\n",
              "      <td>57.680</td>\n",
              "      <td>245.646</td>\n",
              "      <td>480.165</td>\n",
              "      <td>51.968</td>\n",
              "      <td>347.361</td>\n",
              "      <td>307.6660</td>\n",
              "      <td>332.883</td>\n",
              "      <td>562.29250</td>\n",
              "      <td>283.9625</td>\n",
              "      <td>21.936</td>\n",
              "      <td>11.7165</td>\n",
              "      <td>8.934</td>\n",
              "    </tr>\n",
              "    <tr>\n",
              "      <th>Home Office</th>\n",
              "      <td>48.400</td>\n",
              "      <td>191.646</td>\n",
              "      <td>411.332</td>\n",
              "      <td>51.176</td>\n",
              "      <td>362.901</td>\n",
              "      <td>341.9992</td>\n",
              "      <td>210.564</td>\n",
              "      <td>427.23725</td>\n",
              "      <td>382.1800</td>\n",
              "      <td>22.608</td>\n",
              "      <td>12.2010</td>\n",
              "      <td>8.682</td>\n",
              "    </tr>\n",
              "  </tbody>\n",
              "</table>\n",
              "</div>"
            ],
            "text/plain": [
              "Discount       0.00     0.10     0.15    0.20  ...      0.50    0.60     0.70   0.80\n",
              "Segment                                        ...                                  \n",
              "Consumer     51.535  365.598  307.666  51.264  ...  277.5000  23.526  11.2545  7.656\n",
              "Corporate    57.680  245.646  480.165  51.968  ...  283.9625  21.936  11.7165  8.934\n",
              "Home Office  48.400  191.646  411.332  51.176  ...  382.1800  22.608  12.2010  8.682\n",
              "\n",
              "[3 rows x 12 columns]"
            ]
          },
          "metadata": {
            "tags": []
          },
          "execution_count": 34
        }
      ]
    },
    {
      "cell_type": "code",
      "metadata": {
        "colab": {
          "base_uri": "https://localhost:8080/",
          "height": 166
        },
        "id": "wAZ18LZlDd_u",
        "outputId": "03ecfec9-7293-45dd-bf5b-82f744b476ac"
      },
      "source": [
        "data1.pivot_table(values='Profit', index='Segment', columns='Discount', aggfunc='median')"
      ],
      "execution_count": 35,
      "outputs": [
        {
          "output_type": "execute_result",
          "data": {
            "text/html": [
              "<div>\n",
              "<style scoped>\n",
              "    .dataframe tbody tr th:only-of-type {\n",
              "        vertical-align: middle;\n",
              "    }\n",
              "\n",
              "    .dataframe tbody tr th {\n",
              "        vertical-align: top;\n",
              "    }\n",
              "\n",
              "    .dataframe thead th {\n",
              "        text-align: right;\n",
              "    }\n",
              "</style>\n",
              "<table border=\"1\" class=\"dataframe\">\n",
              "  <thead>\n",
              "    <tr style=\"text-align: right;\">\n",
              "      <th>Discount</th>\n",
              "      <th>0.00</th>\n",
              "      <th>0.10</th>\n",
              "      <th>0.15</th>\n",
              "      <th>0.20</th>\n",
              "      <th>0.30</th>\n",
              "      <th>0.32</th>\n",
              "      <th>0.40</th>\n",
              "      <th>0.45</th>\n",
              "      <th>0.50</th>\n",
              "      <th>0.60</th>\n",
              "      <th>0.70</th>\n",
              "      <th>0.80</th>\n",
              "    </tr>\n",
              "    <tr>\n",
              "      <th>Segment</th>\n",
              "      <th></th>\n",
              "      <th></th>\n",
              "      <th></th>\n",
              "      <th></th>\n",
              "      <th></th>\n",
              "      <th></th>\n",
              "      <th></th>\n",
              "      <th></th>\n",
              "      <th></th>\n",
              "      <th></th>\n",
              "      <th></th>\n",
              "      <th></th>\n",
              "    </tr>\n",
              "  </thead>\n",
              "  <tbody>\n",
              "    <tr>\n",
              "      <th>Consumer</th>\n",
              "      <td>15.794</td>\n",
              "      <td>62.0390</td>\n",
              "      <td>5.12940</td>\n",
              "      <td>6.0382</td>\n",
              "      <td>-26.0562</td>\n",
              "      <td>-30.0980</td>\n",
              "      <td>-47.0304</td>\n",
              "      <td>-135.68145</td>\n",
              "      <td>-170.80380</td>\n",
              "      <td>-14.1323</td>\n",
              "      <td>-8.4171</td>\n",
              "      <td>-13.5548</td>\n",
              "    </tr>\n",
              "    <tr>\n",
              "      <th>Corporate</th>\n",
              "      <td>16.032</td>\n",
              "      <td>46.7908</td>\n",
              "      <td>26.27735</td>\n",
              "      <td>6.6976</td>\n",
              "      <td>-28.2240</td>\n",
              "      <td>-59.0606</td>\n",
              "      <td>-78.8424</td>\n",
              "      <td>-255.58750</td>\n",
              "      <td>-116.00625</td>\n",
              "      <td>-10.4196</td>\n",
              "      <td>-7.9856</td>\n",
              "      <td>-14.8266</td>\n",
              "    </tr>\n",
              "    <tr>\n",
              "      <th>Home Office</th>\n",
              "      <td>15.065</td>\n",
              "      <td>37.2300</td>\n",
              "      <td>16.79860</td>\n",
              "      <td>7.1474</td>\n",
              "      <td>-18.2040</td>\n",
              "      <td>-57.3234</td>\n",
              "      <td>-46.7970</td>\n",
              "      <td>-175.14690</td>\n",
              "      <td>-198.59340</td>\n",
              "      <td>-14.2290</td>\n",
              "      <td>-9.2230</td>\n",
              "      <td>-13.8960</td>\n",
              "    </tr>\n",
              "  </tbody>\n",
              "</table>\n",
              "</div>"
            ],
            "text/plain": [
              "Discount       0.00     0.10      0.15  ...     0.60    0.70     0.80\n",
              "Segment                                 ...                          \n",
              "Consumer     15.794  62.0390   5.12940  ... -14.1323 -8.4171 -13.5548\n",
              "Corporate    16.032  46.7908  26.27735  ... -10.4196 -7.9856 -14.8266\n",
              "Home Office  15.065  37.2300  16.79860  ... -14.2290 -9.2230 -13.8960\n",
              "\n",
              "[3 rows x 12 columns]"
            ]
          },
          "metadata": {
            "tags": []
          },
          "execution_count": 35
        }
      ]
    },
    {
      "cell_type": "markdown",
      "metadata": {
        "id": "VvpL-nFZipml"
      },
      "source": [
        "From the above tables we see that when discount offered is less than 30%, the sales as well as profit is quite good but as the discount is increased, the supermarket is facing loss. "
      ]
    },
    {
      "cell_type": "markdown",
      "metadata": {
        "id": "bp9djA4sshCb"
      },
      "source": [
        "#now we try to understand how the supermarket is gaining profit or is suffering loss"
      ]
    },
    {
      "cell_type": "code",
      "metadata": {
        "colab": {
          "base_uri": "https://localhost:8080/",
          "height": 312
        },
        "id": "Z3d8iu7fkHku",
        "outputId": "01462a44-6a3d-4d52-eeff-c4f509e13f0d"
      },
      "source": [
        "sns.lineplot(x='Discount', y='Profit', data=data1)\r\n",
        "plt.title('Discount vs Profit')"
      ],
      "execution_count": 69,
      "outputs": [
        {
          "output_type": "execute_result",
          "data": {
            "text/plain": [
              "Text(0.5, 1.0, 'Discount vs Profit')"
            ]
          },
          "metadata": {
            "tags": []
          },
          "execution_count": 69
        },
        {
          "output_type": "display_data",
          "data": {
            "image/png": "[encoded data removed]",
            "text/plain": [
              "<Figure size 432x288 with 1 Axes>"
            ]
          },
          "metadata": {
            "tags": [],
            "needs_background": "light"
          }
        }
      ]
    },
    {
      "cell_type": "code",
      "metadata": {
        "colab": {
          "base_uri": "https://localhost:8080/",
          "height": 312
        },
        "id": "0cFfFKF1ksHf",
        "outputId": "bff8487c-1a3e-43e3-ea3f-ff4db94990f5"
      },
      "source": [
        "sns.lineplot(x='Sales', y='Discount', data=data1)\r\n",
        "plt.title('Sales vs discount')"
      ],
      "execution_count": 70,
      "outputs": [
        {
          "output_type": "execute_result",
          "data": {
            "text/plain": [
              "Text(0.5, 1.0, 'Sales vs discount')"
            ]
          },
          "metadata": {
            "tags": []
          },
          "execution_count": 70
        },
        {
          "output_type": "display_data",
          "data": {
            "image/png": "[encoded data removed]",
            "text/plain": [
              "<Figure size 432x288 with 1 Axes>"
            ]
          },
          "metadata": {
            "tags": [],
            "needs_background": "light"
          }
        }
      ]
    },
    {
      "cell_type": "code",
      "metadata": {
        "colab": {
          "base_uri": "https://localhost:8080/",
          "height": 312
        },
        "id": "Cqp51K4vltLM",
        "outputId": "8384e4c2-9b90-4ff8-9bf9-86354cc2f0d7"
      },
      "source": [
        "sns.lineplot(x='Discount', y='Quantity', data=data1)\r\n",
        "plt.title('Discount vs Quantity')"
      ],
      "execution_count": 71,
      "outputs": [
        {
          "output_type": "execute_result",
          "data": {
            "text/plain": [
              "Text(0.5, 1.0, 'Discount vs Quantity')"
            ]
          },
          "metadata": {
            "tags": []
          },
          "execution_count": 71
        },
        {
          "output_type": "display_data",
          "data": {
            "image/png": "[encoded data removed]",
            "text/plain": [
              "<Figure size 432x288 with 1 Axes>"
            ]
          },
          "metadata": {
            "tags": [],
            "needs_background": "light"
          }
        }
      ]
    },
    {
      "cell_type": "code",
      "metadata": {
        "colab": {
          "base_uri": "https://localhost:8080/",
          "height": 312
        },
        "id": "mTjr1mYQnC6j",
        "outputId": "c4a01300-610c-451d-f1be-c582e5bd89e5"
      },
      "source": [
        "sns.lineplot(x='Sales', y='Profit', data=data1)\r\n",
        "plt.title('Sales vs Profit')"
      ],
      "execution_count": 72,
      "outputs": [
        {
          "output_type": "execute_result",
          "data": {
            "text/plain": [
              "Text(0.5, 1.0, 'Sales vs Profit')"
            ]
          },
          "metadata": {
            "tags": []
          },
          "execution_count": 72
        },
        {
          "output_type": "display_data",
          "data": {
            "image/png": "[encoded data removed]",
            "text/plain": [
              "<Figure size 432x288 with 1 Axes>"
            ]
          },
          "metadata": {
            "tags": [],
            "needs_background": "light"
          }
        }
      ]
    },
    {
      "cell_type": "code",
      "metadata": {
        "colab": {
          "base_uri": "https://localhost:8080/",
          "height": 397
        },
        "id": "u0yAAGYdnJyH",
        "outputId": "b8271821-cc9b-4015-8e56-2e0538322bf0"
      },
      "source": [
        "data.groupby('Segment')[['Profit', 'Sales']].sum().plot.bar(color=['green', 'yellow'], figsize=(8,5))\r\n",
        "plt.ylabel('Profit/Loss and sales')\r\n",
        "plt.show()"
      ],
      "execution_count": 58,
      "outputs": [
        {
          "output_type": "display_data",
          "data": {
            "image/png": "[encoded data removed]",
            "text/plain": [
              "<Figure size 576x360 with 1 Axes>"
            ]
          },
          "metadata": {
            "tags": [],
            "needs_background": "light"
          }
        }
      ]
    },
    {
      "cell_type": "code",
      "metadata": {
        "id": "4K95utUIN9jy",
        "colab": {
          "base_uri": "https://localhost:8080/",
          "height": 513
        },
        "outputId": "5b0465cb-2052-489a-9044-68a0487e8929"
      },
      "source": [
        "plt.figure(figsize=(8,8))\r\n",
        "plt.title('Segment wise sales in each region')\r\n",
        "sns.barplot(x='Region', y='Sales', hue='Segment', data=data1, order=data['Region'].value_counts().index, palette='rocket')\r\n",
        "plt.xlabel('Region')\r\n",
        "plt.show()"
      ],
      "execution_count": 59,
      "outputs": [
        {
          "output_type": "display_data",
          "data": {
            "image/png": "[encoded data removed]",
            "text/plain": [
              "<Figure size 576x576 with 1 Axes>"
            ]
          },
          "metadata": {
            "tags": [],
            "needs_background": "light"
          }
        }
      ]
    },
    {
      "cell_type": "code",
      "metadata": {
        "colab": {
          "base_uri": "https://localhost:8080/",
          "height": 513
        },
        "id": "q7UKh-JiqKvX",
        "outputId": "79861bd8-daf4-4067-bae6-7e5cebd620f8"
      },
      "source": [
        "plt.figure(figsize=(8,8))\r\n",
        "plt.title('Ship Mode wise Profit in each Segment')\r\n",
        "sns.barplot(x='Ship Mode', y='Profit', hue='Segment', data=data1, order=data['Ship Mode'].value_counts().index, palette='rocket')\r\n",
        "plt.xlabel('Ship Mode')\r\n",
        "plt.show()"
      ],
      "execution_count": 73,
      "outputs": [
        {
          "output_type": "display_data",
          "data": {
            "image/png": "[encoded data removed]",
            "text/plain": [
              "<Figure size 576x576 with 1 Axes>"
            ]
          },
          "metadata": {
            "tags": [],
            "needs_background": "light"
          }
        }
      ]
    },
    {
      "cell_type": "markdown",
      "metadata": {
        "id": "P0g3RehDtUJN"
      },
      "source": [
        "#Conclusions:\r\n",
        "1. Our motive is to save the supermarket from loss. From the above line plot of 'Sales vs Profit', we can see that When the sales is good, the supermarket is making profit and Sales is good when discount of 20 - 30% is offered. So keeping average Discount also, Sales can be increased thereby making profit.\r\n",
        "2. We need to improve sales in the consumer segment in the central region as it is quite low as compared to other regions."
      ]
    }
  ]
}